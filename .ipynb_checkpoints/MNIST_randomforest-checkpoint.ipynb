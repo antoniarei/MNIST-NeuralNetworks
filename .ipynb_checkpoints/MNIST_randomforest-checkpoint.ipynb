{
 "cells": [
  {
   "cell_type": "markdown",
   "metadata": {},
   "source": [
    "## Baseline for MNIST with random forest"
   ]
  },
  {
   "cell_type": "markdown",
   "metadata": {},
   "source": [
    "MNIST dataset was downloaded from kaggle.com in .csv format.\n",
    "\n",
    "train.csv: contains 42000 train example. Each row in csv file contains the digit label in first column, followed by the 28x28 = 784 pixels values of the image.\n"
   ]
  },
  {
   "cell_type": "code",
   "execution_count": 1,
   "metadata": {
    "collapsed": true
   },
   "outputs": [],
   "source": [
    "import numpy as np\n",
    "import pandas as pd\n",
    "from sklearn import metrics\n",
    "from sklearn.model_selection import train_test_split\n",
    "from sklearn.ensemble import RandomForestClassifier"
   ]
  },
  {
   "cell_type": "code",
   "execution_count": 2,
   "metadata": {
    "collapsed": false
   },
   "outputs": [],
   "source": [
    "dataset = pd.read_csv(r\"~/Python/Kaggle Digits/train.csv\")\n",
    "labels = dataset['label'].values\n",
    "train = dataset.iloc[:, 1:].values"
   ]
  },
  {
   "cell_type": "code",
   "execution_count": 3,
   "metadata": {
    "collapsed": false,
    "scrolled": true
   },
   "outputs": [
    {
     "name": "stdout",
     "output_type": "stream",
     "text": [
      "Train set: (42000, 784)\n",
      "Labels: (42000,)\n"
     ]
    }
   ],
   "source": [
    "print 'Train set: ' + str(train.shape)\n",
    "print 'Labels: ' + str(labels.shape)"
   ]
  },
  {
   "cell_type": "markdown",
   "metadata": {},
   "source": [
    "Normalize Data to zero mean and unit variance:"
   ]
  },
  {
   "cell_type": "code",
   "execution_count": 4,
   "metadata": {
    "collapsed": false
   },
   "outputs": [],
   "source": [
    "def normalizeData(X): \n",
    "    #input: X: 2D-numpy array with shape (#datapoints, #features)\n",
    "    #output: normalized X\n",
    "    return (X -128.0)/255.0\n",
    "X = normalizeData(train)"
   ]
  },
  {
   "cell_type": "markdown",
   "metadata": {},
   "source": [
    "Shuffle data and split into test, train and validation set:"
   ]
  },
  {
   "cell_type": "code",
   "execution_count": 5,
   "metadata": {
    "collapsed": false
   },
   "outputs": [],
   "source": [
    "X_train, X_test, y_train, y_test = train_test_split(X, labels, test_size=0.1, random_state=0)"
   ]
  },
  {
   "cell_type": "code",
   "execution_count": 6,
   "metadata": {
    "collapsed": false
   },
   "outputs": [
    {
     "name": "stdout",
     "output_type": "stream",
     "text": [
      "X_train: (37800, 784)\n",
      "y_train: (37800,)\n",
      "X_test: (4200, 784)\n",
      "y_test: (4200,)\n"
     ]
    }
   ],
   "source": [
    "print 'X_train: ' + str(X_train.shape)\n",
    "print 'y_train: ' + str(y_train.shape)\n",
    "print 'X_test: ' + str(X_test.shape)\n",
    "print 'y_test: ' + str(y_test.shape)"
   ]
  },
  {
   "cell_type": "markdown",
   "metadata": {},
   "source": [
    "Optimize hyperparameters for Random Forest Classifier using gridsearch:"
   ]
  },
  {
   "cell_type": "code",
   "execution_count": 7,
   "metadata": {
    "collapsed": false
   },
   "outputs": [
    {
     "name": "stdout",
     "output_type": "stream",
     "text": [
      "Fitting 5 folds for each of 4 candidates, totalling 20 fits\n",
      "[CV] min_samples_split=2, n_estimators=300 ...........................\n",
      "[CV] .. min_samples_split=2, n_estimators=300, score=0.964961 -   1.0s\n",
      "[CV] min_samples_split=2, n_estimators=300 ...........................\n"
     ]
    },
    {
     "name": "stderr",
     "output_type": "stream",
     "text": [
      "[Parallel(n_jobs=1)]: Done   1 out of   1 | elapsed:   59.9s remaining:    0.0s\n"
     ]
    },
    {
     "name": "stdout",
     "output_type": "stream",
     "text": [
      "[CV] .. min_samples_split=2, n_estimators=300, score=0.962576 -   1.0s\n",
      "[CV] min_samples_split=2, n_estimators=300 ...........................\n"
     ]
    },
    {
     "name": "stderr",
     "output_type": "stream",
     "text": [
      "[Parallel(n_jobs=1)]: Done   2 out of   2 | elapsed:  2.0min remaining:    0.0s\n"
     ]
    },
    {
     "name": "stdout",
     "output_type": "stream",
     "text": [
      "[CV] .. min_samples_split=2, n_estimators=300, score=0.968126 -   1.0s\n",
      "[CV] min_samples_split=2, n_estimators=300 ...........................\n",
      "[CV] .. min_samples_split=2, n_estimators=300, score=0.965996 -   1.0s\n",
      "[CV] min_samples_split=2, n_estimators=300 ...........................\n",
      "[CV] .. min_samples_split=2, n_estimators=300, score=0.964929 -   1.0s\n",
      "[CV] min_samples_split=2, n_estimators=500 ...........................\n",
      "[CV] .. min_samples_split=2, n_estimators=500, score=0.965490 -   1.6s\n",
      "[CV] min_samples_split=2, n_estimators=500 ...........................\n",
      "[CV] .. min_samples_split=2, n_estimators=500, score=0.963237 -   1.6s\n",
      "[CV] min_samples_split=2, n_estimators=500 ...........................\n",
      "[CV] .. min_samples_split=2, n_estimators=500, score=0.968655 -   1.6s\n",
      "[CV] min_samples_split=2, n_estimators=500 ...........................\n",
      "[CV] .. min_samples_split=2, n_estimators=500, score=0.966790 -   1.6s\n",
      "[CV] min_samples_split=2, n_estimators=500 ...........................\n",
      "[CV] .. min_samples_split=2, n_estimators=500, score=0.965590 -   1.6s\n",
      "[CV] min_samples_split=5, n_estimators=300 ...........................\n",
      "[CV] .. min_samples_split=5, n_estimators=300, score=0.963507 -   0.9s\n",
      "[CV] min_samples_split=5, n_estimators=300 ...........................\n",
      "[CV] .. min_samples_split=5, n_estimators=300, score=0.961386 -   0.9s\n",
      "[CV] min_samples_split=5, n_estimators=300 ...........................\n",
      "[CV] .. min_samples_split=5, n_estimators=300, score=0.967200 -   0.9s\n",
      "[CV] min_samples_split=5, n_estimators=300 ...........................\n",
      "[CV] .. min_samples_split=5, n_estimators=300, score=0.963218 -   1.0s\n",
      "[CV] min_samples_split=5, n_estimators=300 ...........................\n",
      "[CV] .. min_samples_split=5, n_estimators=300, score=0.964399 -   0.9s\n",
      "[CV] min_samples_split=5, n_estimators=500 ...........................\n",
      "[CV] .. min_samples_split=5, n_estimators=500, score=0.965358 -   1.6s\n",
      "[CV] min_samples_split=5, n_estimators=500 ...........................\n",
      "[CV] .. min_samples_split=5, n_estimators=500, score=0.961386 -   1.6s\n",
      "[CV] min_samples_split=5, n_estimators=500 ...........................\n",
      "[CV] .. min_samples_split=5, n_estimators=500, score=0.969581 -   1.6s\n",
      "[CV] min_samples_split=5, n_estimators=500 ...........................\n",
      "[CV] .. min_samples_split=5, n_estimators=500, score=0.964409 -   1.6s\n",
      "[CV] min_samples_split=5, n_estimators=500 ...........................\n",
      "[CV] .. min_samples_split=5, n_estimators=500, score=0.963737 -   1.6s\n"
     ]
    },
    {
     "name": "stderr",
     "output_type": "stream",
     "text": [
      "[Parallel(n_jobs=1)]: Done  20 out of  20 | elapsed: 26.6min finished\n"
     ]
    },
    {
     "data": {
      "text/plain": [
       "GridSearchCV(cv=5, error_score='raise',\n",
       "       estimator=RandomForestClassifier(bootstrap=True, class_weight=None, criterion='gini',\n",
       "            max_depth=None, max_features='auto', max_leaf_nodes=None,\n",
       "            min_impurity_split=1e-07, min_samples_leaf=1,\n",
       "            min_samples_split=2, min_weight_fraction_leaf=0.0,\n",
       "            n_estimators=10, n_jobs=1, oob_score=False, random_state=None,\n",
       "            verbose=0, warm_start=False),\n",
       "       fit_params={}, iid=True, n_jobs=1,\n",
       "       param_grid={'n_estimators': [300, 500], 'min_samples_split': [2, 5]},\n",
       "       pre_dispatch='2*n_jobs', refit=True, return_train_score=True,\n",
       "       scoring=None, verbose=3)"
      ]
     },
     "execution_count": 7,
     "metadata": {},
     "output_type": "execute_result"
    }
   ],
   "source": [
    "from sklearn.model_selection import GridSearchCV\n",
    "params = {'n_estimators': [300, 500], 'min_samples_split': [2, 5]}\n",
    "clf = GridSearchCV(RandomForestClassifier(), params, cv=5, verbose =3)\n",
    "clf.fit(X_train, y_train)"
   ]
  },
  {
   "cell_type": "markdown",
   "metadata": {},
   "source": [
    "Print best parameters from Gridsearch:"
   ]
  },
  {
   "cell_type": "code",
   "execution_count": 8,
   "metadata": {
    "collapsed": false
   },
   "outputs": [
    {
     "name": "stdout",
     "output_type": "stream",
     "text": [
      "{'min_samples_split': 2, 'n_estimators': 500}\n"
     ]
    }
   ],
   "source": [
    "print(clf.best_params_)"
   ]
  },
  {
   "cell_type": "markdown",
   "metadata": {},
   "source": [
    "Predict and calculate accuracy:"
   ]
  },
  {
   "cell_type": "code",
   "execution_count": 9,
   "metadata": {
    "collapsed": false
   },
   "outputs": [
    {
     "name": "stdout",
     "output_type": "stream",
     "text": [
      "Random Forest Classifier on Input Data: \n",
      "Train accuracy: 1.0\n",
      "Test accuracy: 0.964047619048\n"
     ]
    }
   ],
   "source": [
    "y_pred_train = clf.predict(X_train)\n",
    "y_pred_test = clf.predict(X_test)\n",
    "acc_train = metrics.accuracy_score(y_train, y_pred_train)\n",
    "acc_test = metrics.accuracy_score(y_test, y_pred_test)\n",
    "print 'Random Forest Classifier on Input Data: '\n",
    "print 'Train accuracy: ' + str(acc_train)\n",
    "print 'Test accuracy: ' + str(acc_test)"
   ]
  }
 ],
 "metadata": {
  "kernelspec": {
   "display_name": "Python 2",
   "language": "python",
   "name": "python2"
  },
  "language_info": {
   "codemirror_mode": {
    "name": "ipython",
    "version": 2
   },
   "file_extension": ".py",
   "mimetype": "text/x-python",
   "name": "python",
   "nbconvert_exporter": "python",
   "pygments_lexer": "ipython2",
   "version": "2.7.11"
  }
 },
 "nbformat": 4,
 "nbformat_minor": 0
}
