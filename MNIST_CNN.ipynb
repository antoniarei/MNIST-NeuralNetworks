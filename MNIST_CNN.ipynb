{
 "cells": [
  {
   "cell_type": "markdown",
   "metadata": {},
   "source": [
    "## MNIST data with a convolutional neural network (CNN)"
   ]
  },
  {
   "cell_type": "markdown",
   "metadata": {},
   "source": [
    "MNIST dataset was downloaded from kaggle.com in .csv format.\n",
    "\n",
    "train.csv: contains 42000 train example. Each row in the csv file contains the digit label in the first column, and 784 pixels values of the image in the following columns.\n",
    "\n",
    "Before building a CNN to classify the MNIST data, I tried using both a random forest and a fully-connected neural networks. The accuracies were 96.4% for the random forest, and 96.6% for the neural network. \n",
    "\n",
    "However, neither the random forest not the neural network take advantages of the image-specific properties of our data, i.e., low-level edges and shapes in the pictures. Thus, a CNN should be advantegous over both previous methods. \n"
   ]
  },
  {
   "cell_type": "code",
   "execution_count": 14,
   "metadata": {
    "collapsed": false
   },
   "outputs": [],
   "source": [
    "import numpy as np\n",
    "import pandas as pd\n",
    "import tensorflow as tf\n",
    "from sklearn import metrics\n",
    "from sklearn.model_selection import train_test_split\n",
    "import math\n",
    "import matplotlib.pyplot as plt\n",
    "%matplotlib inline  "
   ]
  },
  {
   "cell_type": "markdown",
   "metadata": {},
   "source": [
    "Load data and convert to numpy arrays 'labels' and 'train':"
   ]
  },
  {
   "cell_type": "code",
   "execution_count": 2,
   "metadata": {
    "collapsed": false
   },
   "outputs": [],
   "source": [
    "dataset = pd.read_csv(r\"~/Python/Kaggle Digits/train.csv\")\n",
    "labels = dataset['label'].values\n",
    "train = dataset.iloc[:, 1:].values"
   ]
  },
  {
   "cell_type": "code",
   "execution_count": 3,
   "metadata": {
    "collapsed": false,
    "scrolled": true
   },
   "outputs": [
    {
     "name": "stdout",
     "output_type": "stream",
     "text": [
      "Train set: (42000, 784)\n",
      "Labels: (42000,)\n"
     ]
    }
   ],
   "source": [
    "print 'Train set: ' + str(train.shape)\n",
    "print 'Labels: ' + str(labels.shape)"
   ]
  },
  {
   "cell_type": "markdown",
   "metadata": {},
   "source": [
    "Normalize Data to zero mean and unit variance:"
   ]
  },
  {
   "cell_type": "code",
   "execution_count": 4,
   "metadata": {
    "collapsed": false
   },
   "outputs": [],
   "source": [
    "def normalizeData(X): \n",
    "    #input: X: 2D-numpy array with shape (#datapoints, #features)\n",
    "    #output: normalized X\n",
    "    return (X -128.0)/255.0\n",
    "X = normalizeData(train)"
   ]
  },
  {
   "cell_type": "markdown",
   "metadata": {},
   "source": [
    "For a neural network, we need to reformat our labels (0,1,2,3, ...9) into one-hot encoded labels, i.e.:\n",
    "label 1 is represented as [1.0, 0.0, 0.0 ...], \n",
    "label 2 is represented as [0.0, 1.0, 0.0 ...], etc."
   ]
  },
  {
   "cell_type": "code",
   "execution_count": 5,
   "metadata": {
    "collapsed": false
   },
   "outputs": [
    {
     "name": "stdout",
     "output_type": "stream",
     "text": [
      "Labels before reformating: (42000,)\n",
      "Labels after reformating:  (42000, 10)\n"
     ]
    }
   ],
   "source": [
    "def reformatLabels(labels):\n",
    "    #input: 1D numpy array labels with shape (#samples)\n",
    "    #output: 2D numpy array of encoded labels with shape (#samples, #labels)\n",
    "    num_labels = len(np.unique(labels))\n",
    "    labels = (np.arange(num_labels) == labels[:,None]).astype(np.float32)\n",
    "    return labels\n",
    "print 'Labels before reformating: ' + str(labels.shape)\n",
    "labels = reformatLabels(labels)\n",
    "print 'Labels after reformating:  ' + str(labels.shape)"
   ]
  },
  {
   "cell_type": "markdown",
   "metadata": {},
   "source": [
    "Currently, the train data X is in the shape of (#samples, #pixels). However, for a CNN with Tensorflow, we  need the input data to be in the shape of (#samples, imagesize, imagesize, #channels)."
   ]
  },
  {
   "cell_type": "code",
   "execution_count": 6,
   "metadata": {
    "collapsed": false
   },
   "outputs": [
    {
     "name": "stdout",
     "output_type": "stream",
     "text": [
      "Data before reformating: (42000, 784)\n",
      "Data after reformating:  (42000, 28, 28, 1)\n"
     ]
    }
   ],
   "source": [
    "def reformatData(X, num_channels = 1):\n",
    "    #input: X: 2D-numpy array with shape (#datapoints, #features)\n",
    "    #input: num_channels: integer, number of RGB channels.\n",
    "    image_size  = int(math.sqrt(X.shape[1]))\n",
    "    X = X.reshape((-1, image_size, image_size, num_channels)).astype(np.float32)\n",
    "    #Note: since Tensorflow cannot deal with numpy float 64 array, we convert it to float32\n",
    "    return X\n",
    "print 'Data before reformating: ' + str(X.shape)\n",
    "X = reformatData(X)\n",
    "print 'Data after reformating:  ' + str(X.shape)"
   ]
  },
  {
   "cell_type": "markdown",
   "metadata": {},
   "source": [
    "Let's check that reformating to images went well:"
   ]
  },
  {
   "cell_type": "code",
   "execution_count": 7,
   "metadata": {
    "collapsed": false
   },
   "outputs": [
    {
     "data": {
      "text/plain": [
       "<matplotlib.image.AxesImage at 0x11cec8790>"
      ]
     },
     "execution_count": 7,
     "metadata": {},
     "output_type": "execute_result"
    },
    {
     "data": {
      "image/png": "[encoded data removed]",
      "text/plain": [
       "<matplotlib.figure.Figure at 0x11caabdd0>"
      ]
     },
     "metadata": {},
     "output_type": "display_data"
    }
   ],
   "source": [
    "plt.figure()\n",
    "plt.imshow(X[10, :,:,0], cmap=plt.cm.gray)"
   ]
  },
  {
   "cell_type": "markdown",
   "metadata": {},
   "source": [
    "Divide the data into random test and train set:"
   ]
  },
  {
   "cell_type": "code",
   "execution_count": 8,
   "metadata": {
    "collapsed": false
   },
   "outputs": [
    {
     "name": "stdout",
     "output_type": "stream",
     "text": [
      "(37800, 28, 28, 1)\n",
      "(37800, 10)\n",
      "(4200, 28, 28, 1)\n",
      "(4200, 10)\n"
     ]
    }
   ],
   "source": [
    "X_train, X_test, y_train, y_test = train_test_split(X, labels, test_size=0.1, random_state=0)\n",
    "print X_train.shape\n",
    "print y_train.shape\n",
    "print X_test.shape\n",
    "print y_test.shape"
   ]
  },
  {
   "cell_type": "markdown",
   "metadata": {},
   "source": [
    "Define variables for CNN:"
   ]
  },
  {
   "cell_type": "code",
   "execution_count": 9,
   "metadata": {
    "collapsed": true
   },
   "outputs": [],
   "source": [
    "image_size  = 28     #image size of MNIST data: 28x28 pixels\n",
    "num_labels = 10      #number of classes in the data set\n",
    "num_channels = 1     #number of RGB channels\n",
    "batch_size = 128     #batch used in each training pass\n",
    "learningrate = 0.001 #learning rate \n",
    "alpha =  0.002       #regularization strength\n",
    "train_epochs = 100   #for how many epochs we want to train the network\n",
    "totalsteps = int((train_epochs * X_train.shape[0])/batch_size) #calculate #train passes"
   ]
  },
  {
   "cell_type": "code",
   "execution_count": 10,
   "metadata": {
    "collapsed": false
   },
   "outputs": [],
   "source": [
    "graph = tf.Graph()\n",
    "with graph.as_default():\n",
    "    \n",
    "    #function for initializtion of weights and biases\n",
    "    def weight_variable(shape):\n",
    "        return tf.Variable(tf.truncated_normal(shape=shape, stddev=0.1))\n",
    "    def bias_variable(shape):\n",
    "        return tf.Variable(tf.constant(0.1, shape = shape))\n",
    "\n",
    "    #maxpool defintion    \n",
    "    def max_pool_2x2(x):\n",
    "        return tf.nn.max_pool(x, ksize=[1, 2, 2, 1], strides=[1, 2, 2, 1], padding='SAME')\n",
    "\n",
    "    # define Input data dimensions\n",
    "    tf_X_train = tf.placeholder(tf.float32, shape=(batch_size, image_size, image_size, num_channels))\n",
    "    tf_y_train = tf.placeholder(tf.float32, shape=(batch_size, num_labels))\n",
    "    tf_X_test = tf.constant(X_test)\n",
    "    \n",
    "    #network definition\n",
    "    #layer 1\n",
    "    #3x3 convolution filter, 16 feature maps\n",
    "    patch_size1 = 3\n",
    "    depth1 = 16\n",
    "    layer1_weights = weight_variable([patch_size1, patch_size1, num_channels, depth1])\n",
    "    layer1_biases = bias_variable([depth1])\n",
    "    \n",
    "    #layer 2\n",
    "    #3x3 convolution filter, 16 feature maps \n",
    "    patch_size2 = 3\n",
    "    depth2 = 16\n",
    "    layer2_weights = weight_variable([patch_size2, patch_size2, depth1, depth2])\n",
    "    layer2_biases =  bias_variable([depth2])\n",
    "    \n",
    "    #layer 3\n",
    "    #5x5 convolution filter, 32 feature maps\n",
    "    patch_size3 = 5\n",
    "    depth3 = 32    \n",
    "    layer3_weights = weight_variable([patch_size3, patch_size3, depth2, depth3])\n",
    "    layer3_biases = bias_variable([depth3])\n",
    "\n",
    "    #layer 4\n",
    "    #fully connected layer 1\n",
    "    num_hidden = 1024\n",
    "    layer4_weights = weight_variable([image_size//4 * image_size//4  * depth3, num_hidden])\n",
    "    layer4_biases =  bias_variable([num_hidden])\n",
    "    \n",
    "    #layer 5\n",
    "    #fully connected layer\n",
    "    num_hidden2 = 1024\n",
    "    layer4a_weights = weight_variable([num_hidden, num_hidden2])\n",
    "    layer4a_biases =  bias_variable([num_hidden2])\n",
    "\n",
    "    #output layer\n",
    "    layer5_weights = weight_variable([num_hidden2, num_labels])\n",
    "    layer5_biases = bias_variable([num_labels])\n",
    "    \n",
    "    #make a list of the weights\n",
    "    weights = [layer1_weights,  layer2_weights, layer3_weights,  layer4_weights, layer4a_weights, layer5_weights ]\n",
    "  \n",
    "\n",
    "  # Model definition (= forward propagation)\n",
    "    def model(data, dropout = False):\n",
    "        if dropout == True:\n",
    "            keepprob = 0.5\n",
    "        else:\n",
    "            keepprob = 1.0\n",
    "            \n",
    "        #layer C1\n",
    "        conv = tf.nn.conv2d(data, layer1_weights, [1, 1, 1, 1], padding='SAME') \n",
    "        hidden = tf.nn.relu(conv + layer1_biases)\n",
    "\n",
    "        #layer C2\n",
    "        conv = tf.nn.conv2d(hidden, layer2_weights, [1, 1, 1, 1], padding='SAME')\n",
    "        hidden = tf.nn.relu(conv + layer2_biases)\n",
    "        hidden = max_pool_2x2(hidden)\n",
    "\n",
    "        #layer C3\n",
    "        conv = tf.nn.conv2d(hidden, layer3_weights, [1, 1, 1, 1], padding='SAME')\n",
    "        hidden = tf.nn.relu(conv + layer3_biases)\n",
    "        hidden = max_pool_2x2(hidden)\n",
    "        \n",
    "        #reshape for FC layer\n",
    "        shape = hidden.get_shape().as_list()\n",
    "        reshape = tf.reshape(hidden, [shape[0], shape[1] * shape[2] * shape[3]])\n",
    "\n",
    "        #layer F4\n",
    "        hidden = tf.nn.relu(tf.matmul(reshape, layer4_weights) + layer4_biases)\n",
    "        hidden = tf.nn.dropout(hidden, keepprob)\n",
    "\n",
    "        #layer F4a\n",
    "        hidden = tf.nn.relu(tf.matmul(hidden, layer4a_weights) + layer4a_biases)\n",
    "        hidden = tf.nn.dropout(hidden, keepprob)\n",
    "\n",
    "        #output layer\n",
    "        return tf.matmul(hidden, layer5_weights) + layer5_biases  \n",
    "  \n",
    "    # Define Training computation.\n",
    "    # note: dropout = True\n",
    "    logits = model(tf_X_train, dropout = True)\n",
    "    \n",
    "    # loss function for regularization\n",
    "    l2 = tf.nn.l2_loss(weights[0])  #initialize\n",
    "    for i in range(1, len(weights)):\n",
    "        l2 += tf.nn.l2_loss(weights[i])\n",
    "\n",
    "    #loss function of forward pass\n",
    "    loss = tf.reduce_mean(tf.nn.softmax_cross_entropy_with_logits(logits, tf_y_train)) + alpha*l2\n",
    "       \n",
    "    # Optimizer.\n",
    "    global_step = tf.Variable(0, name='global_step', trainable=False) # count the number of steps taken\n",
    "    #learning_rate = tf.train.exponential_decay(learningrate, global_step, 3000, 0.9, staircase=True)\n",
    "    #optimizer = tf.train.GradientDescentOptimizer(0.05).minimize(loss)\n",
    "    #optimizer = tf.train.GradientDescentOptimizer(learning_rate).minimize(loss, global_step=global_step)\n",
    "    #\n",
    "    #note: for Adam, the learning rate is decreasing with time. Thus, we don't explicitly need to set up\n",
    "    #learning rate decay\n",
    "    optimizer = tf.train.AdamOptimizer(learningrate).minimize(loss, global_step=global_step)  \n",
    " \n",
    " \n",
    "    #Predictions for the training, validation, and test data.\n",
    "    train_prediction = tf.nn.softmax(model(tf_X_train))\n",
    "    test_prediction = tf.nn.softmax(model(tf_X_test))\n",
    "         "
   ]
  },
  {
   "cell_type": "markdown",
   "metadata": {},
   "source": [
    "Also, we need to define a function that yields the input/indices for each batch of training data:"
   ]
  },
  {
   "cell_type": "code",
   "execution_count": 11,
   "metadata": {
    "collapsed": true
   },
   "outputs": [],
   "source": [
    "def yield_next_batch_generator(sizeX, batch_size):\n",
    "    #Generator function which returns indices of samples (batches) used for each training pass\n",
    "    \n",
    "    currentindex = 0\n",
    "    indeces = np.arange(0,sizeX) \n",
    "    np.random.shuffle(indeces)\n",
    "    while True:  \n",
    "        start = currentindex\n",
    "        currentindex += batch_size\n",
    "        # when all trainig data have been already used, it is shuffled and currentindex is reset\n",
    "        if currentindex > sizeX:\n",
    "            np.random.shuffle(indeces)\n",
    "            start = 0\n",
    "            currentindex = batch_size\n",
    "        end = currentindex\n",
    "        yield indeces[start:end] "
   ]
  },
  {
   "cell_type": "markdown",
   "metadata": {},
   "source": [
    "We need to define an metric for the classifier. For this problem, we can use classification accuracy:"
   ]
  },
  {
   "cell_type": "code",
   "execution_count": 12,
   "metadata": {
    "collapsed": true
   },
   "outputs": [],
   "source": [
    "def accuracy(predictions, labels):\n",
    "    return (100.0 * np.sum(np.argmax(predictions, 1) == np.argmax(labels, 1))\n",
    "          / predictions.shape[0])"
   ]
  },
  {
   "cell_type": "markdown",
   "metadata": {},
   "source": [
    "Now we can initialize and train the network:"
   ]
  },
  {
   "cell_type": "code",
   "execution_count": 13,
   "metadata": {
    "collapsed": false
   },
   "outputs": [
    {
     "name": "stdout",
     "output_type": "stream",
     "text": [
      "Initialized\n",
      "Training for a total number of steps of: 29531\n",
      "Minibatch loss at step 0: 36.703938\n",
      "Minibatch accuracy: 10.9%\n",
      "Test accuracy: 9.1%\n",
      " \n",
      "Minibatch loss at step 500: 4.313422\n",
      "Minibatch accuracy: 98.4%\n",
      "Minibatch loss at step 1000: 1.218288\n",
      "Minibatch accuracy: 99.2%\n",
      "Minibatch loss at step 1500: 0.641536\n",
      "Minibatch accuracy: 95.3%\n",
      "Minibatch loss at step 2000: 0.293112\n",
      "Minibatch accuracy: 100.0%\n",
      "Test accuracy: 98.4%\n",
      " \n",
      "Minibatch loss at step 2500: 0.234806\n",
      "Minibatch accuracy: 100.0%\n",
      "Minibatch loss at step 3000: 0.211172\n",
      "Minibatch accuracy: 99.2%\n",
      "Minibatch loss at step 3500: 0.227437\n",
      "Minibatch accuracy: 99.2%\n",
      "Minibatch loss at step 4000: 0.202367\n",
      "Minibatch accuracy: 97.7%\n",
      "Test accuracy: 98.3%\n",
      " \n",
      "Minibatch loss at step 4500: 0.240967\n",
      "Minibatch accuracy: 96.9%\n",
      "Minibatch loss at step 5000: 0.257879\n",
      "Minibatch accuracy: 96.9%\n",
      "Minibatch loss at step 5500: 0.155636\n",
      "Minibatch accuracy: 99.2%\n",
      "Minibatch loss at step 6000: 0.142717\n",
      "Minibatch accuracy: 100.0%\n",
      "Test accuracy: 98.7%\n",
      " \n",
      "Minibatch loss at step 6500: 0.156220\n",
      "Minibatch accuracy: 100.0%\n",
      "Minibatch loss at step 7000: 0.188557\n",
      "Minibatch accuracy: 99.2%\n",
      "Minibatch loss at step 7500: 0.235635\n",
      "Minibatch accuracy: 99.2%\n",
      "Minibatch loss at step 8000: 0.170113\n",
      "Minibatch accuracy: 99.2%\n",
      "Test accuracy: 98.4%\n",
      " \n",
      "Minibatch loss at step 8500: 0.180467\n",
      "Minibatch accuracy: 99.2%\n",
      "Minibatch loss at step 9000: 0.197771\n",
      "Minibatch accuracy: 98.4%\n",
      "Minibatch loss at step 9500: 0.204936\n",
      "Minibatch accuracy: 96.9%\n",
      "Minibatch loss at step 10000: 0.142768\n",
      "Minibatch accuracy: 100.0%\n",
      "Test accuracy: 98.7%\n",
      " \n",
      "Minibatch loss at step 10500: 0.154500\n",
      "Minibatch accuracy: 100.0%\n",
      "Minibatch loss at step 11000: 0.216959\n",
      "Minibatch accuracy: 97.7%\n",
      "Minibatch loss at step 11500: 0.163693\n",
      "Minibatch accuracy: 99.2%\n",
      "Minibatch loss at step 12000: 0.147951\n",
      "Minibatch accuracy: 99.2%\n",
      "Test accuracy: 99.0%\n",
      " \n",
      "Minibatch loss at step 12500: 0.188249\n",
      "Minibatch accuracy: 96.1%\n",
      "Minibatch loss at step 13000: 0.143937\n",
      "Minibatch accuracy: 100.0%\n",
      "Minibatch loss at step 13500: 0.152300\n",
      "Minibatch accuracy: 99.2%\n",
      "Minibatch loss at step 14000: 0.144904\n",
      "Minibatch accuracy: 98.4%\n",
      "Test accuracy: 99.0%\n",
      " \n",
      "Minibatch loss at step 14500: 0.127514\n",
      "Minibatch accuracy: 100.0%\n",
      "Minibatch loss at step 15000: 0.152708\n",
      "Minibatch accuracy: 97.7%\n",
      "Minibatch loss at step 15500: 0.127909\n",
      "Minibatch accuracy: 100.0%\n",
      "Minibatch loss at step 16000: 0.179220\n",
      "Minibatch accuracy: 99.2%\n",
      "Test accuracy: 99.1%\n",
      " \n",
      "Minibatch loss at step 16500: 0.132061\n",
      "Minibatch accuracy: 100.0%\n",
      "Minibatch loss at step 17000: 0.206680\n",
      "Minibatch accuracy: 99.2%\n",
      "Minibatch loss at step 17500: 0.124833\n",
      "Minibatch accuracy: 100.0%\n",
      "Minibatch loss at step 18000: 0.137685\n",
      "Minibatch accuracy: 100.0%\n",
      "Test accuracy: 98.9%\n",
      " \n",
      "Minibatch loss at step 18500: 0.128579\n",
      "Minibatch accuracy: 100.0%\n",
      "Minibatch loss at step 19000: 0.123438\n",
      "Minibatch accuracy: 100.0%\n",
      "Minibatch loss at step 19500: 0.166544\n",
      "Minibatch accuracy: 98.4%\n",
      "Minibatch loss at step 20000: 0.170010\n",
      "Minibatch accuracy: 98.4%\n",
      "Test accuracy: 98.8%\n",
      " \n",
      "Minibatch loss at step 20500: 0.125749\n",
      "Minibatch accuracy: 97.7%\n",
      "Minibatch loss at step 21000: 0.114272\n",
      "Minibatch accuracy: 99.2%\n",
      "Minibatch loss at step 21500: 0.127631\n",
      "Minibatch accuracy: 99.2%\n",
      "Minibatch loss at step 22000: 0.115302\n",
      "Minibatch accuracy: 100.0%\n",
      "Test accuracy: 98.7%\n",
      " \n",
      "Minibatch loss at step 22500: 0.170601\n",
      "Minibatch accuracy: 98.4%\n",
      "Minibatch loss at step 23000: 0.121134\n",
      "Minibatch accuracy: 100.0%\n",
      "Minibatch loss at step 23500: 0.139250\n",
      "Minibatch accuracy: 100.0%\n",
      "Minibatch loss at step 24000: 0.120602\n",
      "Minibatch accuracy: 99.2%\n",
      "Test accuracy: 98.8%\n",
      " \n",
      "Minibatch loss at step 24500: 0.155165\n",
      "Minibatch accuracy: 97.7%\n",
      "Minibatch loss at step 25000: 0.206117\n",
      "Minibatch accuracy: 99.2%\n",
      "Minibatch loss at step 25500: 0.163347\n",
      "Minibatch accuracy: 98.4%\n",
      "Minibatch loss at step 26000: 0.118445\n",
      "Minibatch accuracy: 99.2%\n",
      "Test accuracy: 98.9%\n",
      " \n",
      "Minibatch loss at step 26500: 0.155631\n",
      "Minibatch accuracy: 98.4%\n",
      "Minibatch loss at step 27000: 0.121861\n",
      "Minibatch accuracy: 100.0%\n",
      "Minibatch loss at step 27500: 0.165372\n",
      "Minibatch accuracy: 98.4%\n",
      "Minibatch loss at step 28000: 0.137189\n",
      "Minibatch accuracy: 99.2%\n",
      "Test accuracy: 98.8%\n",
      " \n",
      "Minibatch loss at step 28500: 0.127154\n",
      "Minibatch accuracy: 100.0%\n",
      "Minibatch loss at step 29000: 0.175334\n",
      "Minibatch accuracy: 98.4%\n",
      "Minibatch loss at step 29500: 0.228909\n",
      "Minibatch accuracy: 96.9%\n",
      "Test accuracy: 98.6%\n",
      "Done training!\n"
     ]
    }
   ],
   "source": [
    "with tf.Session(graph=graph) as session:\n",
    "    tf.initialize_all_variables().run()\n",
    "    print(\"Initialized\")\n",
    "    print 'Training for a total number of steps of: ' + str(totalsteps) \n",
    "    \n",
    "    #Initialize generator:\n",
    "    g = yield_next_batch_generator(X_train.shape[0], batch_size)\n",
    "    #start training loop\n",
    "    for step in xrange(totalsteps):\n",
    "        indeces = g.next() #indeces from generator\n",
    "        feed_dict = {tf_X_train : X_train[indeces, :], tf_y_train : y_train[indeces, :]}\n",
    "\n",
    "        # Run forward and backward pass and update weights\n",
    "        _, l, predictions = session.run([optimizer, loss, train_prediction], feed_dict=feed_dict)\n",
    "\n",
    "        #print global_step\n",
    "        if (step % 500 == 0):\n",
    "            print(\"Minibatch loss at step %d: %f\" % (step, l))\n",
    "            print(\"Minibatch accuracy: %.1f%%\" % accuracy(predictions, y_train[indeces, :]))\n",
    "        if (step % 2000 == 0):\n",
    "            print(\"Test accuracy: %.1f%%\" % accuracy(test_prediction.eval(), y_test))\n",
    "            print ' ' \n",
    "    print(\"Test accuracy: %.1f%%\" % accuracy(test_prediction.eval(), y_test))\n",
    "    print 'Done training!'"
   ]
  },
  {
   "cell_type": "markdown",
   "metadata": {
    "collapsed": true
   },
   "source": [
    "For the CNN, we get an accuracy of 98.6% - 99.0% on the testset. That is definitely an improvement over the random forest and fully connected neural network!"
   ]
  },
  {
   "cell_type": "code",
   "execution_count": null,
   "metadata": {
    "collapsed": true
   },
   "outputs": [],
   "source": []
  }
 ],
 "metadata": {
  "kernelspec": {
   "display_name": "Python 2",
   "language": "python",
   "name": "python2"
  },
  "language_info": {
   "codemirror_mode": {
    "name": "ipython",
    "version": 2
   },
   "file_extension": ".py",
   "mimetype": "text/x-python",
   "name": "python",
   "nbconvert_exporter": "python",
   "pygments_lexer": "ipython2",
   "version": "2.7.11"
  }
 },
 "nbformat": 4,
 "nbformat_minor": 0
}
